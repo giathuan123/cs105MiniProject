{
 "cells": [
  {
   "cell_type": "markdown",
   "id": "cf8b380f-bfaf-48fd-a254-193b0ffae19e",
   "metadata": {},
   "source": [
    "# Data Visualization and Explanation\n",
    "---\n"
   ]
  },
  {
   "cell_type": "code",
   "execution_count": 19,
   "id": "579bec0d-1e9d-4add-a47c-ddeb55e88e8e",
   "metadata": {},
   "outputs": [],
   "source": [
    "import pandas as pd\n",
    "import numpy as np\n",
    "import matplotlib.pyplot as plt\n",
    "import matplotlib as mpl\n",
    "import seaborn as sns\n",
    "import os\n",
    "from IPython.display import display\n",
    "from scipy.stats import chi2_contingency\n",
    "from scipy.stats import chi2\n",
    "# https://docs.scipy.org/doc/scipy/reference/generated/scipy.stats.chi2_contingency.html"
   ]
  },
  {
   "cell_type": "markdown",
   "id": "e04d9b02",
   "metadata": {},
   "source": [
    "## Set the style"
   ]
  },
  {
   "cell_type": "code",
   "execution_count": 20,
   "id": "f2f9d504",
   "metadata": {},
   "outputs": [],
   "source": [
    "plt.style.use('seaborn')"
   ]
  },
  {
   "cell_type": "markdown",
   "id": "af28079f-9086-4a01-a43e-b05f67950512",
   "metadata": {},
   "source": [
    "Data cleaning steps\n",
    "---\n",
    "1. Renamed columns names of dataset.\n",
    "2. Replaced Master's and phd's to Graduate in year columns.\n",
    "3. Fill missing values in cofidence column to 3.\n",
    "4. Make sure students' current units are correct, some values were more than 100.\n",
    "5. Fill missing values in student's current units columns to 0.\n",
    "6. Fill GPA columns with the mean."
   ]
  },
  {
   "cell_type": "code",
   "execution_count": 21,
   "id": "3ca0c4d9-36e7-420e-8623-eb39e67b2468",
   "metadata": {},
   "outputs": [
    {
     "data": {
      "text/html": [
       "<div>\n",
       "<style scoped>\n",
       "    .dataframe tbody tr th:only-of-type {\n",
       "        vertical-align: middle;\n",
       "    }\n",
       "\n",
       "    .dataframe tbody tr th {\n",
       "        vertical-align: top;\n",
       "    }\n",
       "\n",
       "    .dataframe thead th {\n",
       "        text-align: right;\n",
       "    }\n",
       "</style>\n",
       "<table border=\"1\" class=\"dataframe\">\n",
       "  <thead>\n",
       "    <tr style=\"text-align: right;\">\n",
       "      <th></th>\n",
       "      <th>Unnamed: 0</th>\n",
       "      <th>helping_others_confidence</th>\n",
       "      <th>study_group_yesno</th>\n",
       "      <th>feel_confidence</th>\n",
       "      <th>feel_confidence2</th>\n",
       "      <th>study_group_preference</th>\n",
       "      <th>education_fulfillment</th>\n",
       "      <th>curr_class</th>\n",
       "      <th>curr_units</th>\n",
       "      <th>approx_gpa_year1</th>\n",
       "      <th>approx_gpa_win22_1</th>\n",
       "      <th>approx_gpa_win22_2</th>\n",
       "      <th>year</th>\n",
       "      <th>gender</th>\n",
       "      <th>age</th>\n",
       "    </tr>\n",
       "  </thead>\n",
       "  <tbody>\n",
       "    <tr>\n",
       "      <th>0</th>\n",
       "      <td>0</td>\n",
       "      <td>3</td>\n",
       "      <td>Yes</td>\n",
       "      <td>1</td>\n",
       "      <td>3</td>\n",
       "      <td>Alone</td>\n",
       "      <td>3</td>\n",
       "      <td>CS105</td>\n",
       "      <td>12</td>\n",
       "      <td>3.50</td>\n",
       "      <td>3.9</td>\n",
       "      <td>3.43</td>\n",
       "      <td>Junior</td>\n",
       "      <td>Woman</td>\n",
       "      <td>21</td>\n",
       "    </tr>\n",
       "    <tr>\n",
       "      <th>1</th>\n",
       "      <td>1</td>\n",
       "      <td>5</td>\n",
       "      <td>No</td>\n",
       "      <td>3</td>\n",
       "      <td>4</td>\n",
       "      <td>Alone</td>\n",
       "      <td>4</td>\n",
       "      <td>CS111</td>\n",
       "      <td>14</td>\n",
       "      <td>3.90</td>\n",
       "      <td>3.75</td>\n",
       "      <td>3.81</td>\n",
       "      <td>Sophomore</td>\n",
       "      <td>Man</td>\n",
       "      <td>20</td>\n",
       "    </tr>\n",
       "    <tr>\n",
       "      <th>2</th>\n",
       "      <td>2</td>\n",
       "      <td>5</td>\n",
       "      <td>No</td>\n",
       "      <td>3</td>\n",
       "      <td>3</td>\n",
       "      <td>All the above</td>\n",
       "      <td>2</td>\n",
       "      <td>CS111</td>\n",
       "      <td>12</td>\n",
       "      <td>2.70</td>\n",
       "      <td>2.7</td>\n",
       "      <td>2.70</td>\n",
       "      <td>Sophomore</td>\n",
       "      <td>Man</td>\n",
       "      <td>19</td>\n",
       "    </tr>\n",
       "    <tr>\n",
       "      <th>3</th>\n",
       "      <td>3</td>\n",
       "      <td>4</td>\n",
       "      <td>Yes</td>\n",
       "      <td>4</td>\n",
       "      <td>4</td>\n",
       "      <td>In groups</td>\n",
       "      <td>4</td>\n",
       "      <td>CS105</td>\n",
       "      <td>17</td>\n",
       "      <td>3.90</td>\n",
       "      <td>3.9</td>\n",
       "      <td>3.90</td>\n",
       "      <td>Junior</td>\n",
       "      <td>Man</td>\n",
       "      <td>20</td>\n",
       "    </tr>\n",
       "    <tr>\n",
       "      <th>4</th>\n",
       "      <td>4</td>\n",
       "      <td>1</td>\n",
       "      <td>No</td>\n",
       "      <td>3</td>\n",
       "      <td>3</td>\n",
       "      <td>Alone</td>\n",
       "      <td>4</td>\n",
       "      <td>CS111</td>\n",
       "      <td>15</td>\n",
       "      <td>3.40</td>\n",
       "      <td>3.4</td>\n",
       "      <td>3.40</td>\n",
       "      <td>Junior</td>\n",
       "      <td>Man</td>\n",
       "      <td>21</td>\n",
       "    </tr>\n",
       "    <tr>\n",
       "      <th>...</th>\n",
       "      <td>...</td>\n",
       "      <td>...</td>\n",
       "      <td>...</td>\n",
       "      <td>...</td>\n",
       "      <td>...</td>\n",
       "      <td>...</td>\n",
       "      <td>...</td>\n",
       "      <td>...</td>\n",
       "      <td>...</td>\n",
       "      <td>...</td>\n",
       "      <td>...</td>\n",
       "      <td>...</td>\n",
       "      <td>...</td>\n",
       "      <td>...</td>\n",
       "      <td>...</td>\n",
       "    </tr>\n",
       "    <tr>\n",
       "      <th>87</th>\n",
       "      <td>87</td>\n",
       "      <td>3</td>\n",
       "      <td>No</td>\n",
       "      <td>3</td>\n",
       "      <td>3</td>\n",
       "      <td>Partner</td>\n",
       "      <td>4</td>\n",
       "      <td>CS111</td>\n",
       "      <td>17</td>\n",
       "      <td>3.50</td>\n",
       "      <td>2.85</td>\n",
       "      <td>3.22</td>\n",
       "      <td>Sophomore</td>\n",
       "      <td>Man</td>\n",
       "      <td>19</td>\n",
       "    </tr>\n",
       "    <tr>\n",
       "      <th>88</th>\n",
       "      <td>88</td>\n",
       "      <td>3</td>\n",
       "      <td>No</td>\n",
       "      <td>3</td>\n",
       "      <td>4</td>\n",
       "      <td>All the above</td>\n",
       "      <td>2</td>\n",
       "      <td>CS105</td>\n",
       "      <td>16</td>\n",
       "      <td>2.50</td>\n",
       "      <td>2.5</td>\n",
       "      <td>2.50</td>\n",
       "      <td>Junior</td>\n",
       "      <td>Man</td>\n",
       "      <td>21</td>\n",
       "    </tr>\n",
       "    <tr>\n",
       "      <th>89</th>\n",
       "      <td>89</td>\n",
       "      <td>3</td>\n",
       "      <td>Yes</td>\n",
       "      <td>2</td>\n",
       "      <td>4</td>\n",
       "      <td>Partner</td>\n",
       "      <td>5</td>\n",
       "      <td>CS105</td>\n",
       "      <td>16</td>\n",
       "      <td>4.00</td>\n",
       "      <td>3.9</td>\n",
       "      <td>3.97</td>\n",
       "      <td>Senior</td>\n",
       "      <td>Man</td>\n",
       "      <td>23</td>\n",
       "    </tr>\n",
       "    <tr>\n",
       "      <th>90</th>\n",
       "      <td>90</td>\n",
       "      <td>5</td>\n",
       "      <td>No</td>\n",
       "      <td>1</td>\n",
       "      <td>4</td>\n",
       "      <td>Alone</td>\n",
       "      <td>4</td>\n",
       "      <td>CS105</td>\n",
       "      <td>12</td>\n",
       "      <td>3.50</td>\n",
       "      <td>3</td>\n",
       "      <td>3.50</td>\n",
       "      <td>Junior</td>\n",
       "      <td>Man</td>\n",
       "      <td>Daneil</td>\n",
       "    </tr>\n",
       "    <tr>\n",
       "      <th>91</th>\n",
       "      <td>91</td>\n",
       "      <td>4</td>\n",
       "      <td>No</td>\n",
       "      <td>3</td>\n",
       "      <td>3</td>\n",
       "      <td>Partner</td>\n",
       "      <td>3</td>\n",
       "      <td>CS105</td>\n",
       "      <td>12</td>\n",
       "      <td>3.52</td>\n",
       "      <td>3.52</td>\n",
       "      <td>3.52</td>\n",
       "      <td>Junior</td>\n",
       "      <td>Man</td>\n",
       "      <td>21</td>\n",
       "    </tr>\n",
       "  </tbody>\n",
       "</table>\n",
       "<p>92 rows × 15 columns</p>\n",
       "</div>"
      ],
      "text/plain": [
       "    Unnamed: 0  helping_others_confidence study_group_yesno  feel_confidence  \\\n",
       "0            0                          3               Yes                1   \n",
       "1            1                          5                No                3   \n",
       "2            2                          5                No                3   \n",
       "3            3                          4               Yes                4   \n",
       "4            4                          1                No                3   \n",
       "..         ...                        ...               ...              ...   \n",
       "87          87                          3                No                3   \n",
       "88          88                          3                No                3   \n",
       "89          89                          3               Yes                2   \n",
       "90          90                          5                No                1   \n",
       "91          91                          4                No                3   \n",
       "\n",
       "    feel_confidence2 study_group_preference  education_fulfillment curr_class  \\\n",
       "0                  3                  Alone                      3      CS105   \n",
       "1                  4                  Alone                      4      CS111   \n",
       "2                  3          All the above                      2      CS111   \n",
       "3                  4              In groups                      4      CS105   \n",
       "4                  3                  Alone                      4      CS111   \n",
       "..               ...                    ...                    ...        ...   \n",
       "87                 3                Partner                      4      CS111   \n",
       "88                 4          All the above                      2      CS105   \n",
       "89                 4                Partner                      5      CS105   \n",
       "90                 4                  Alone                      4      CS105   \n",
       "91                 3                Partner                      3      CS105   \n",
       "\n",
       "    curr_units  approx_gpa_year1 approx_gpa_win22_1  approx_gpa_win22_2  \\\n",
       "0           12              3.50                3.9                3.43   \n",
       "1           14              3.90               3.75                3.81   \n",
       "2           12              2.70                2.7                2.70   \n",
       "3           17              3.90                3.9                3.90   \n",
       "4           15              3.40                3.4                3.40   \n",
       "..         ...               ...                ...                 ...   \n",
       "87          17              3.50               2.85                3.22   \n",
       "88          16              2.50                2.5                2.50   \n",
       "89          16              4.00                3.9                3.97   \n",
       "90          12              3.50                  3                3.50   \n",
       "91          12              3.52               3.52                3.52   \n",
       "\n",
       "         year gender     age  \n",
       "0      Junior  Woman      21  \n",
       "1   Sophomore    Man      20  \n",
       "2   Sophomore    Man      19  \n",
       "3      Junior    Man      20  \n",
       "4      Junior    Man      21  \n",
       "..        ...    ...     ...  \n",
       "87  Sophomore    Man      19  \n",
       "88     Junior    Man      21  \n",
       "89     Senior    Man      23  \n",
       "90     Junior    Man  Daneil  \n",
       "91     Junior    Man      21  \n",
       "\n",
       "[92 rows x 15 columns]"
      ]
     },
     "execution_count": 21,
     "metadata": {},
     "output_type": "execute_result"
    }
   ],
   "source": [
    "data_df = pd.read_csv(\"data_cleaned.csv\")\n",
    "data_df"
   ]
  },
  {
   "cell_type": "code",
   "execution_count": 22,
   "id": "487f6f5f-cb2b-44e6-8a76-e07fcb8ea67b",
   "metadata": {},
   "outputs": [
    {
     "data": {
      "text/plain": [
       "5    35\n",
       "4    30\n",
       "3    15\n",
       "2     8\n",
       "1     4\n",
       "Name: helping_others_confidence, dtype: int64"
      ]
     },
     "metadata": {},
     "output_type": "display_data"
    },
    {
     "data": {
      "image/png": "[encoded data removed]",
      "text/plain": [
       "<Figure size 576x396 with 1 Axes>"
      ]
     },
     "metadata": {},
     "output_type": "display_data"
    }
   ],
   "source": [
    "d1 = data_df[\"helping_others_confidence\"]\n",
    "d2 = d1.value_counts()\n",
    "display(d2)\n",
    "plt.title(\"Does helping others improve your confidence?\")\n",
    "plt.xlabel(\"Level of Confidence (1 = lowest, 5 = highest)\")\n",
    "plt.ylabel(\"Student count\")\n",
    "plt.bar(d2.index,d2)\n",
    "plt.show()"
   ]
  },
  {
   "cell_type": "code",
   "execution_count": 23,
   "id": "8330dd0d-7ac5-45a7-985c-148e6c703f39",
   "metadata": {},
   "outputs": [
    {
     "data": {
      "text/plain": [
       "3    29\n",
       "4    27\n",
       "2    24\n",
       "1     8\n",
       "5     4\n",
       "Name: feel_confidence, dtype: int64"
      ]
     },
     "metadata": {},
     "output_type": "display_data"
    },
    {
     "data": {
      "image/png": "[encoded data removed]",
      "text/plain": [
       "<Figure size 576x396 with 1 Axes>"
      ]
     },
     "metadata": {},
     "output_type": "display_data"
    }
   ],
   "source": [
    "d1 = data_df[\"feel_confidence\"]\n",
    "d3 = d1.value_counts()\n",
    "display(d3)\n",
    "plt.bar(d3.index,d3)\n",
    "plt.title(\"Confidence question 1\")\n",
    "plt.ylabel(\"Student count\")\n",
    "plt.xlabel(\"Level of Confidence (1 = lowest, 5 = highest)\")\n",
    "plt.show()"
   ]
  },
  {
   "cell_type": "code",
   "execution_count": 24,
   "id": "2fb9145f",
   "metadata": {},
   "outputs": [
    {
     "data": {
      "text/plain": [
       "3    39\n",
       "4    31\n",
       "2    10\n",
       "5     6\n",
       "1     6\n",
       "Name: feel_confidence2, dtype: int64"
      ]
     },
     "metadata": {},
     "output_type": "display_data"
    },
    {
     "data": {
      "image/png": "[encoded data removed]",
      "text/plain": [
       "<Figure size 576x396 with 1 Axes>"
      ]
     },
     "metadata": {},
     "output_type": "display_data"
    }
   ],
   "source": [
    "d1 = data_df[\"feel_confidence2\"]\n",
    "d3 = d1.value_counts()\n",
    "display(d3)\n",
    "plt.bar(d3.index,d3)\n",
    "plt.title(\"Confidence question 2\")\n",
    "plt.ylabel(\"Student count\")\n",
    "plt.xlabel(\"Level of Confidence (1 = lowest, 5 = highest)\")\n",
    "plt.show()"
   ]
  },
  {
   "cell_type": "code",
   "execution_count": 25,
   "id": "82668bd8-e630-45a3-bd9d-ce9f9e891ae1",
   "metadata": {},
   "outputs": [
    {
     "data": {
      "text/plain": [
       "Alone            28\n",
       "Partner          26\n",
       "All the above    23\n",
       "In groups        15\n",
       "Name: study_group_preference, dtype: int64"
      ]
     },
     "metadata": {},
     "output_type": "display_data"
    },
    {
     "data": {
      "image/png": "[encoded data removed]",
      "text/plain": [
       "<Figure size 576x396 with 1 Axes>"
      ]
     },
     "metadata": {},
     "output_type": "display_data"
    }
   ],
   "source": [
    "d1 = data_df[\"study_group_preference\"]\n",
    "d4 = d1.value_counts()\n",
    "display(d4)\n",
    "plt.bar(d4.index,d4)\n",
    "plt.title(\"Social Study Preferences, with All of the Above\")\n",
    "plt.xlabel(\"Preference\")\n",
    "plt.ylabel(\"Student count\")\n",
    "plt.show()"
   ]
  },
  {
   "cell_type": "code",
   "execution_count": 26,
   "id": "33c0bf86",
   "metadata": {},
   "outputs": [
    {
     "data": {
      "text/plain": [
       "Alone        28\n",
       "Partner      26\n",
       "In groups    15\n",
       "Name: study_group_preference, dtype: int64"
      ]
     },
     "metadata": {},
     "output_type": "display_data"
    },
    {
     "data": {
      "image/png": "[encoded data removed]",
      "text/plain": [
       "<Figure size 576x396 with 1 Axes>"
      ]
     },
     "metadata": {},
     "output_type": "display_data"
    }
   ],
   "source": [
    "d1 = data_df[\"study_group_preference\"][data_df[\"study_group_preference\"] != \"All the above\"]\n",
    "d4 = d1.value_counts()\n",
    "display(d4)\n",
    "plt.bar(d4.index,d4)\n",
    "plt.title(\"Social Study Preferences, without All of the Above\")\n",
    "plt.xlabel(\"Preference\")\n",
    "plt.ylabel(\"Student count\")\n",
    "plt.show()"
   ]
  },
  {
   "cell_type": "code",
   "execution_count": 27,
   "id": "908bebc9-7e06-4503-8d14-8ddd545ecb26",
   "metadata": {},
   "outputs": [
    {
     "data": {
      "text/html": [
       "<div>\n",
       "<style scoped>\n",
       "    .dataframe tbody tr th:only-of-type {\n",
       "        vertical-align: middle;\n",
       "    }\n",
       "\n",
       "    .dataframe tbody tr th {\n",
       "        vertical-align: top;\n",
       "    }\n",
       "\n",
       "    .dataframe thead th {\n",
       "        text-align: right;\n",
       "    }\n",
       "</style>\n",
       "<table border=\"1\" class=\"dataframe\">\n",
       "  <thead>\n",
       "    <tr style=\"text-align: right;\">\n",
       "      <th>study_group_preference</th>\n",
       "      <th>All the above</th>\n",
       "      <th>Alone</th>\n",
       "      <th>In groups</th>\n",
       "      <th>Partner</th>\n",
       "    </tr>\n",
       "    <tr>\n",
       "      <th>feel_confidence</th>\n",
       "      <th></th>\n",
       "      <th></th>\n",
       "      <th></th>\n",
       "      <th></th>\n",
       "    </tr>\n",
       "  </thead>\n",
       "  <tbody>\n",
       "    <tr>\n",
       "      <th>1</th>\n",
       "      <td>1</td>\n",
       "      <td>6</td>\n",
       "      <td>0</td>\n",
       "      <td>1</td>\n",
       "    </tr>\n",
       "    <tr>\n",
       "      <th>2</th>\n",
       "      <td>4</td>\n",
       "      <td>5</td>\n",
       "      <td>6</td>\n",
       "      <td>9</td>\n",
       "    </tr>\n",
       "    <tr>\n",
       "      <th>3</th>\n",
       "      <td>12</td>\n",
       "      <td>6</td>\n",
       "      <td>4</td>\n",
       "      <td>7</td>\n",
       "    </tr>\n",
       "    <tr>\n",
       "      <th>4</th>\n",
       "      <td>5</td>\n",
       "      <td>8</td>\n",
       "      <td>5</td>\n",
       "      <td>9</td>\n",
       "    </tr>\n",
       "    <tr>\n",
       "      <th>5</th>\n",
       "      <td>1</td>\n",
       "      <td>3</td>\n",
       "      <td>0</td>\n",
       "      <td>0</td>\n",
       "    </tr>\n",
       "  </tbody>\n",
       "</table>\n",
       "</div>"
      ],
      "text/plain": [
       "study_group_preference  All the above  Alone  In groups  Partner\n",
       "feel_confidence                                                 \n",
       "1                                   1      6          0        1\n",
       "2                                   4      5          6        9\n",
       "3                                  12      6          4        7\n",
       "4                                   5      8          5        9\n",
       "5                                   1      3          0        0"
      ]
     },
     "metadata": {},
     "output_type": "display_data"
    },
    {
     "data": {
      "text/plain": [
       "Text(0.5, 1.0, 'Heat map showing percentages of confidences given study group preference')"
      ]
     },
     "execution_count": 27,
     "metadata": {},
     "output_type": "execute_result"
    },
    {
     "data": {
      "image/png": "[encoded data removed]",
      "text/plain": [
       "<Figure size 576x396 with 2 Axes>"
      ]
     },
     "metadata": {},
     "output_type": "display_data"
    }
   ],
   "source": [
    "counts_1 = pd.crosstab(data_df.feel_confidence, data_df.study_group_preference)\n",
    "display(counts_1)\n",
    "joint = counts_1 / counts_1.sum().sum()\n",
    "sns.heatmap(joint,annot = True)\n",
    "plt.title(\"Heat map showing percentages of confidences given study group preference\")"
   ]
  },
  {
   "cell_type": "code",
   "execution_count": 28,
   "id": "737738e5-82db-46f2-92f0-cf12745109a2",
   "metadata": {},
   "outputs": [
    {
     "data": {
      "text/html": [
       "<div>\n",
       "<style scoped>\n",
       "    .dataframe tbody tr th:only-of-type {\n",
       "        vertical-align: middle;\n",
       "    }\n",
       "\n",
       "    .dataframe tbody tr th {\n",
       "        vertical-align: top;\n",
       "    }\n",
       "\n",
       "    .dataframe thead th {\n",
       "        text-align: right;\n",
       "    }\n",
       "</style>\n",
       "<table border=\"1\" class=\"dataframe\">\n",
       "  <thead>\n",
       "    <tr style=\"text-align: right;\">\n",
       "      <th>study_group_preference</th>\n",
       "      <th>All the above</th>\n",
       "      <th>Alone</th>\n",
       "      <th>In groups</th>\n",
       "      <th>Partner</th>\n",
       "    </tr>\n",
       "    <tr>\n",
       "      <th>feel_confidence</th>\n",
       "      <th></th>\n",
       "      <th></th>\n",
       "      <th></th>\n",
       "      <th></th>\n",
       "    </tr>\n",
       "  </thead>\n",
       "  <tbody>\n",
       "    <tr>\n",
       "      <th>1</th>\n",
       "      <td>0.043478</td>\n",
       "      <td>0.214286</td>\n",
       "      <td>0.000000</td>\n",
       "      <td>0.038462</td>\n",
       "    </tr>\n",
       "    <tr>\n",
       "      <th>2</th>\n",
       "      <td>0.173913</td>\n",
       "      <td>0.178571</td>\n",
       "      <td>0.400000</td>\n",
       "      <td>0.346154</td>\n",
       "    </tr>\n",
       "    <tr>\n",
       "      <th>3</th>\n",
       "      <td>0.521739</td>\n",
       "      <td>0.214286</td>\n",
       "      <td>0.266667</td>\n",
       "      <td>0.269231</td>\n",
       "    </tr>\n",
       "    <tr>\n",
       "      <th>4</th>\n",
       "      <td>0.217391</td>\n",
       "      <td>0.285714</td>\n",
       "      <td>0.333333</td>\n",
       "      <td>0.346154</td>\n",
       "    </tr>\n",
       "    <tr>\n",
       "      <th>5</th>\n",
       "      <td>0.043478</td>\n",
       "      <td>0.107143</td>\n",
       "      <td>0.000000</td>\n",
       "      <td>0.000000</td>\n",
       "    </tr>\n",
       "  </tbody>\n",
       "</table>\n",
       "</div>"
      ],
      "text/plain": [
       "study_group_preference  All the above     Alone  In groups   Partner\n",
       "feel_confidence                                                     \n",
       "1                            0.043478  0.214286   0.000000  0.038462\n",
       "2                            0.173913  0.178571   0.400000  0.346154\n",
       "3                            0.521739  0.214286   0.266667  0.269231\n",
       "4                            0.217391  0.285714   0.333333  0.346154\n",
       "5                            0.043478  0.107143   0.000000  0.000000"
      ]
     },
     "metadata": {},
     "output_type": "display_data"
    },
    {
     "data": {
      "image/png": "[encoded data removed]",
      "text/plain": [
       "<Figure size 576x396 with 1 Axes>"
      ]
     },
     "metadata": {},
     "output_type": "display_data"
    }
   ],
   "source": [
    "groupPreference_counts = counts_1.sum(axis=0)\n",
    "confidence_given_groupPreference = counts_1.divide(groupPreference_counts, axis=1)\n",
    "display(confidence_given_groupPreference)\n",
    "confidence_given_groupPreference.T.plot.bar(stacked=True)\n",
    "plt.title(\"Distributions of confidence levels given study group preference\")\n",
    "plt.xlabel(\"Study Group Preference\")\n",
    "plt.legend(loc=\"best\")\n",
    "plt.show()"
   ]
  },
  {
   "cell_type": "code",
   "execution_count": 29,
   "id": "b575b512",
   "metadata": {},
   "outputs": [
    {
     "data": {
      "text/html": [
       "<div>\n",
       "<style scoped>\n",
       "    .dataframe tbody tr th:only-of-type {\n",
       "        vertical-align: middle;\n",
       "    }\n",
       "\n",
       "    .dataframe tbody tr th {\n",
       "        vertical-align: top;\n",
       "    }\n",
       "\n",
       "    .dataframe thead th {\n",
       "        text-align: right;\n",
       "    }\n",
       "</style>\n",
       "<table border=\"1\" class=\"dataframe\">\n",
       "  <thead>\n",
       "    <tr style=\"text-align: right;\">\n",
       "      <th>study_group_preference</th>\n",
       "      <th>All the above</th>\n",
       "      <th>Alone</th>\n",
       "      <th>In groups</th>\n",
       "      <th>Partner</th>\n",
       "    </tr>\n",
       "    <tr>\n",
       "      <th>feel_confidence</th>\n",
       "      <th></th>\n",
       "      <th></th>\n",
       "      <th></th>\n",
       "      <th></th>\n",
       "    </tr>\n",
       "  </thead>\n",
       "  <tbody>\n",
       "    <tr>\n",
       "      <th>1</th>\n",
       "      <td>0.125000</td>\n",
       "      <td>0.750000</td>\n",
       "      <td>0.000000</td>\n",
       "      <td>0.125000</td>\n",
       "    </tr>\n",
       "    <tr>\n",
       "      <th>2</th>\n",
       "      <td>0.166667</td>\n",
       "      <td>0.208333</td>\n",
       "      <td>0.250000</td>\n",
       "      <td>0.375000</td>\n",
       "    </tr>\n",
       "    <tr>\n",
       "      <th>3</th>\n",
       "      <td>0.413793</td>\n",
       "      <td>0.206897</td>\n",
       "      <td>0.137931</td>\n",
       "      <td>0.241379</td>\n",
       "    </tr>\n",
       "    <tr>\n",
       "      <th>4</th>\n",
       "      <td>0.185185</td>\n",
       "      <td>0.296296</td>\n",
       "      <td>0.185185</td>\n",
       "      <td>0.333333</td>\n",
       "    </tr>\n",
       "    <tr>\n",
       "      <th>5</th>\n",
       "      <td>0.250000</td>\n",
       "      <td>0.750000</td>\n",
       "      <td>0.000000</td>\n",
       "      <td>0.000000</td>\n",
       "    </tr>\n",
       "  </tbody>\n",
       "</table>\n",
       "</div>"
      ],
      "text/plain": [
       "study_group_preference  All the above     Alone  In groups   Partner\n",
       "feel_confidence                                                     \n",
       "1                            0.125000  0.750000   0.000000  0.125000\n",
       "2                            0.166667  0.208333   0.250000  0.375000\n",
       "3                            0.413793  0.206897   0.137931  0.241379\n",
       "4                            0.185185  0.296296   0.185185  0.333333\n",
       "5                            0.250000  0.750000   0.000000  0.000000"
      ]
     },
     "metadata": {},
     "output_type": "display_data"
    },
    {
     "data": {
      "image/png": "[encoded data removed]",
      "text/plain": [
       "<Figure size 576x396 with 1 Axes>"
      ]
     },
     "metadata": {},
     "output_type": "display_data"
    }
   ],
   "source": [
    "confidence_counts = counts_1.sum(axis=1)\n",
    "groupPreference_given_confidence = counts_1.divide(confidence_counts, axis=0)\n",
    "display(groupPreference_given_confidence)\n",
    "groupPreference_given_confidence.plot.bar(stacked=True)\n",
    "plt.title(\"Distributions of study group preferences given confidence levels\")\n",
    "plt.xlabel(\"Level of Confidence (1 = lowest, 5 = highest)\")\n",
    "plt.legend(loc=\"best\")\n",
    "plt.show()"
   ]
  },
  {
   "cell_type": "code",
   "execution_count": 30,
   "id": "4e13ad10-b745-4553-8652-519c937bdb46",
   "metadata": {},
   "outputs": [
    {
     "name": "stdout",
     "output_type": "stream",
     "text": [
      "Running chi square with All the above column\n",
      "calculated chi square value: 20.442507566932846\n",
      "degree of freedom: 12\n"
     ]
    }
   ],
   "source": [
    "print(\"Running chi square with All the above column\")\n",
    "chi_with, p, dfree, expected = chi2_contingency(counts_1)\n",
    "print(\"calculated chi square value:\", chi_with)\n",
    "print(\"degree of freedom:\", dfree)"
   ]
  },
  {
   "cell_type": "code",
   "execution_count": 31,
   "id": "38ad7b91",
   "metadata": {},
   "outputs": [
    {
     "name": "stdout",
     "output_type": "stream",
     "text": [
      "Running chi square without All the above column\n",
      "calculated chi square value: 12.918184819382297\n",
      "degree of freedom: 8\n"
     ]
    }
   ],
   "source": [
    "counts_2 = pd.crosstab(data_df[data_df[\"study_group_preference\"] != \"All the above\"].feel_confidence,\n",
    "                       data_df[data_df[\"study_group_preference\"] != \"All the above\"].study_group_preference)\n",
    "\n",
    "print(\"Running chi square without All the above column\")\n",
    "chi_witho, p, dfree, expected = chi2_contingency(counts_2)\n",
    "print(\"calculated chi square value:\", chi_witho)\n",
    "print(\"degree of freedom:\", dfree)"
   ]
  },
  {
   "cell_type": "code",
   "execution_count": 32,
   "id": "fbf96012-c143-4496-afb5-c71123246d93",
   "metadata": {},
   "outputs": [
    {
     "name": "stdout",
     "output_type": "stream",
     "text": [
      "Needed chi square value, with All the above column: 21.02606981748307\n",
      " - Achieved chi square value: 20.442507566932846\n",
      " - Success: False\n",
      "Needed chi square value, without All the above column: 15.50731305586545\n",
      " - Achieved chi square value: 12.918184819382297\n",
      " - Success: False\n"
     ]
    }
   ],
   "source": [
    "print(f\"Needed chi square value, with All the above column: {chi2.ppf(1-0.05, 12)}\")\n",
    "print(f\" - Achieved chi square value: {chi_with}\")\n",
    "print(f\" - Success: {True if (chi_with >= chi2.ppf(1-0.05, 12)) else False}\")\n",
    "print(f\"Needed chi square value, without All the above column: {chi2.ppf(1-0.05, 8)}\")\n",
    "print(f\" - Achieved chi square value: {chi_witho}\")\n",
    "print(f\" - Success: {True if (chi_witho >= chi2.ppf(1-0.05, 8)) else False}\")"
   ]
  },
  {
   "cell_type": "markdown",
   "id": "ae8851a9",
   "metadata": {},
   "source": [
    "## Questions"
   ]
  },
  {
   "cell_type": "markdown",
   "id": "223706dc",
   "metadata": {},
   "source": [
    "#### 1. What data do you have?"
   ]
  },
  {
   "cell_type": "markdown",
   "id": "fb016e20",
   "metadata": {},
   "source": []
  },
  {
   "cell_type": "markdown",
   "id": "244c11c5",
   "metadata": {},
   "source": [
    "#### 2. What would you like to know?"
   ]
  },
  {
   "cell_type": "markdown",
   "id": "fba726fe",
   "metadata": {},
   "source": []
  },
  {
   "cell_type": "markdown",
   "id": "ac6f4361",
   "metadata": {},
   "source": [
    "#### 3. Explore the data"
   ]
  },
  {
   "cell_type": "markdown",
   "id": "b9a4e7a6",
   "metadata": {},
   "source": []
  },
  {
   "cell_type": "markdown",
   "id": "e3aaa85d",
   "metadata": {},
   "source": [
    "#### 4. Can you state any hypotheses or make some predictions? Which tests can you apply to verify your hypothesis?"
   ]
  },
  {
   "cell_type": "markdown",
   "id": "b8713f17",
   "metadata": {},
   "source": [
    "---\n",
    "\n",
    "*Null hypothesis:* the preference of students (whether they like to work together or alone), does not have an impact on their level of confidence in the given class.\n",
    "\n",
    "*Alternative hypothesis:* the preference of students (whether they like to work together or alone), does have an impact on their level of confidence in the given class.\n",
    "\n",
    "---"
   ]
  },
  {
   "cell_type": "markdown",
   "metadata": {},
   "source": [
    "#### 5. Test your hypotheses"
   ]
  },
  {
   "cell_type": "markdown",
   "id": "9ce777e2",
   "metadata": {},
   "source": [
    "---\n",
    "\n",
    "We tested our hypothesis using $\\chi ^2$ analysis. The tests were separated into two parts: (1) including \"All the above\" submissions for the `study_preference` columns, and (2) excluding \"All the above\" submissions for the `study_preference` column.\n",
    "\n",
    "\n",
    "##### Part 1\n",
    "\n",
    "In part (1), our contingency table has 12 degrees of freedom. $r = 5$, and $c = 4$, so $DF = (r-1)(c-1) = 4 \\cdot 3 = 12$. Following the table for $\\chi ^2$ analysis, we find that in order to reject the null hypothesis at a 95% confidence level, we need to achieve a $\\chi ^2$ value of 21.026. However, as we can see from the function `chi2_contingency()`, the resulting value was 18.43.\n",
    "\n",
    "Therefore, since our $\\chi ^2$ failed to reach the needed value for 12 degrees of freedom, at a 95% confidence level, we fail to reject the null hypothesis at 95% confidence, and conclude that the study preferences of students generally does not affect their level of confidence.\n",
    "\n",
    "\n",
    "##### Part 2\n",
    "\n",
    "In part (2), our contingency table has 8 degrees of freedom. Since we removed one of the columns (\"All the above\"), we now have $r = 5$, and $c = 3$, and thus $DF = (r - 1)(c - 1) = 4 \\cdot 2 = 8$. Following the same table as in Part 1, we found that we needed a $\\chi ^2$ value of 15.507 in order to reject the null hypothesis. However, as we can see from the function `chi2_contingency()`, the resulting value was 11.117.\n",
    "\n",
    "Therefore, since our $\\chi ^2$ failed to reach the needed value for 8 degrees of freedom, at a 95% confidence level, we fail to reject the null hypothesis at 95% confidence, and conclude that the study preferences of students generally does not affect their level of confidence.\n",
    "\n",
    "---"
   ]
  }
 ],
 "metadata": {
  "interpreter": {
   "hash": "47ce80aa6088769d2de7cb04596df7e1a4671f8f3161643693f5855f71a72105"
  },
  "kernelspec": {
   "display_name": "Python 3.7.7 ('venv': venv)",
   "language": "python",
   "name": "python3"
  },
  "language_info": {
   "codemirror_mode": {
    "name": "ipython",
    "version": 3
   },
   "file_extension": ".py",
   "mimetype": "text/x-python",
   "name": "python",
   "nbconvert_exporter": "python",
   "pygments_lexer": "ipython3",
   "version": "3.7.7"
  }
 },
 "nbformat": 4,
 "nbformat_minor": 5
}
