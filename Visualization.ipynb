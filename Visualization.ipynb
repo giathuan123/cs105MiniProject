{
 "cells": [
  {
   "cell_type": "markdown",
   "id": "cf8b380f-bfaf-48fd-a254-193b0ffae19e",
   "metadata": {},
   "source": [
    "# Data Visualization and Explanation\n",
    "---\n"
   ]
  },
  {
   "cell_type": "code",
   "execution_count": 1,
   "id": "579bec0d-1e9d-4add-a47c-ddeb55e88e8e",
   "metadata": {},
   "outputs": [],
   "source": [
    "import pandas as pd\n",
    "import numpy as np\n",
    "import matplotlib.pyplot as plt\n",
    "import matplotlib as mpl\n",
    "import seaborn as sns\n",
    "import os\n",
    "from IPython.display import display\n",
    "from scipy.stats import chi2_contingency\n",
    "from scipy.stats import chi2\n",
    "# https://docs.scipy.org/doc/scipy/reference/generated/scipy.stats.chi2_contingency.html"
   ]
  },
  {
   "cell_type": "code",
   "execution_count": 2,
   "id": "3ca0c4d9-36e7-420e-8623-eb39e67b2468",
   "metadata": {},
   "outputs": [
    {
     "data": {
      "text/html": [
       "<div>\n",
       "<style scoped>\n",
       "    .dataframe tbody tr th:only-of-type {\n",
       "        vertical-align: middle;\n",
       "    }\n",
       "\n",
       "    .dataframe tbody tr th {\n",
       "        vertical-align: top;\n",
       "    }\n",
       "\n",
       "    .dataframe thead th {\n",
       "        text-align: right;\n",
       "    }\n",
       "</style>\n",
       "<table border=\"1\" class=\"dataframe\">\n",
       "  <thead>\n",
       "    <tr style=\"text-align: right;\">\n",
       "      <th></th>\n",
       "      <th>Unnamed: 0</th>\n",
       "      <th>helping_others_confidence</th>\n",
       "      <th>study_group_yesno</th>\n",
       "      <th>feel_confidence</th>\n",
       "      <th>feel_confidence2</th>\n",
       "      <th>study_group_preference</th>\n",
       "      <th>education_fulfillment</th>\n",
       "      <th>curr_class</th>\n",
       "      <th>curr_units</th>\n",
       "      <th>approx_gpa_year1</th>\n",
       "      <th>approx_gpa_win22_1</th>\n",
       "      <th>approx_gpa_win22_2</th>\n",
       "      <th>year</th>\n",
       "      <th>gender</th>\n",
       "      <th>age</th>\n",
       "    </tr>\n",
       "  </thead>\n",
       "  <tbody>\n",
       "    <tr>\n",
       "      <th>0</th>\n",
       "      <td>0</td>\n",
       "      <td>3</td>\n",
       "      <td>Yes</td>\n",
       "      <td>1</td>\n",
       "      <td>3</td>\n",
       "      <td>Alone</td>\n",
       "      <td>3</td>\n",
       "      <td>CS105</td>\n",
       "      <td>12</td>\n",
       "      <td>3.5</td>\n",
       "      <td>3.9</td>\n",
       "      <td>3.43</td>\n",
       "      <td>Junior</td>\n",
       "      <td>Woman</td>\n",
       "      <td>21</td>\n",
       "    </tr>\n",
       "    <tr>\n",
       "      <th>1</th>\n",
       "      <td>1</td>\n",
       "      <td>5</td>\n",
       "      <td>No</td>\n",
       "      <td>3</td>\n",
       "      <td>4</td>\n",
       "      <td>Alone</td>\n",
       "      <td>4</td>\n",
       "      <td>CS111</td>\n",
       "      <td>14</td>\n",
       "      <td>3.9</td>\n",
       "      <td>3.75</td>\n",
       "      <td>3.81</td>\n",
       "      <td>Sophomore</td>\n",
       "      <td>Man</td>\n",
       "      <td>20</td>\n",
       "    </tr>\n",
       "    <tr>\n",
       "      <th>2</th>\n",
       "      <td>2</td>\n",
       "      <td>5</td>\n",
       "      <td>No</td>\n",
       "      <td>3</td>\n",
       "      <td>3</td>\n",
       "      <td>All the above</td>\n",
       "      <td>2</td>\n",
       "      <td>CS111</td>\n",
       "      <td>12</td>\n",
       "      <td>2.7</td>\n",
       "      <td>2.7</td>\n",
       "      <td>2.70</td>\n",
       "      <td>Sophomore</td>\n",
       "      <td>Man</td>\n",
       "      <td>19</td>\n",
       "    </tr>\n",
       "    <tr>\n",
       "      <th>3</th>\n",
       "      <td>3</td>\n",
       "      <td>4</td>\n",
       "      <td>Yes</td>\n",
       "      <td>4</td>\n",
       "      <td>4</td>\n",
       "      <td>In groups</td>\n",
       "      <td>4</td>\n",
       "      <td>CS105</td>\n",
       "      <td>17</td>\n",
       "      <td>3.9</td>\n",
       "      <td>3.9</td>\n",
       "      <td>3.90</td>\n",
       "      <td>Junior</td>\n",
       "      <td>Man</td>\n",
       "      <td>20</td>\n",
       "    </tr>\n",
       "    <tr>\n",
       "      <th>4</th>\n",
       "      <td>4</td>\n",
       "      <td>1</td>\n",
       "      <td>No</td>\n",
       "      <td>3</td>\n",
       "      <td>3</td>\n",
       "      <td>Alone</td>\n",
       "      <td>4</td>\n",
       "      <td>CS111</td>\n",
       "      <td>15</td>\n",
       "      <td>3.4</td>\n",
       "      <td>3.4</td>\n",
       "      <td>3.40</td>\n",
       "      <td>Junior</td>\n",
       "      <td>Man</td>\n",
       "      <td>21</td>\n",
       "    </tr>\n",
       "    <tr>\n",
       "      <th>...</th>\n",
       "      <td>...</td>\n",
       "      <td>...</td>\n",
       "      <td>...</td>\n",
       "      <td>...</td>\n",
       "      <td>...</td>\n",
       "      <td>...</td>\n",
       "      <td>...</td>\n",
       "      <td>...</td>\n",
       "      <td>...</td>\n",
       "      <td>...</td>\n",
       "      <td>...</td>\n",
       "      <td>...</td>\n",
       "      <td>...</td>\n",
       "      <td>...</td>\n",
       "      <td>...</td>\n",
       "    </tr>\n",
       "    <tr>\n",
       "      <th>84</th>\n",
       "      <td>84</td>\n",
       "      <td>4</td>\n",
       "      <td>Yes</td>\n",
       "      <td>4</td>\n",
       "      <td>4</td>\n",
       "      <td>Partner</td>\n",
       "      <td>5</td>\n",
       "      <td>CS105</td>\n",
       "      <td>11</td>\n",
       "      <td>4.0</td>\n",
       "      <td>4</td>\n",
       "      <td>4.00</td>\n",
       "      <td>Junior</td>\n",
       "      <td>Woman</td>\n",
       "      <td>21</td>\n",
       "    </tr>\n",
       "    <tr>\n",
       "      <th>85</th>\n",
       "      <td>85</td>\n",
       "      <td>3</td>\n",
       "      <td>Yes</td>\n",
       "      <td>2</td>\n",
       "      <td>3</td>\n",
       "      <td>Partner</td>\n",
       "      <td>3</td>\n",
       "      <td>CS141</td>\n",
       "      <td>12</td>\n",
       "      <td>3.2</td>\n",
       "      <td>3</td>\n",
       "      <td>3.33</td>\n",
       "      <td>Junior</td>\n",
       "      <td>Man</td>\n",
       "      <td>21</td>\n",
       "    </tr>\n",
       "    <tr>\n",
       "      <th>86</th>\n",
       "      <td>86</td>\n",
       "      <td>5</td>\n",
       "      <td>No</td>\n",
       "      <td>4</td>\n",
       "      <td>3</td>\n",
       "      <td>Partner</td>\n",
       "      <td>4</td>\n",
       "      <td>cs150</td>\n",
       "      <td>12</td>\n",
       "      <td>2.9</td>\n",
       "      <td>NaN</td>\n",
       "      <td>2.50</td>\n",
       "      <td>Senior</td>\n",
       "      <td>Woman</td>\n",
       "      <td>21</td>\n",
       "    </tr>\n",
       "    <tr>\n",
       "      <th>87</th>\n",
       "      <td>87</td>\n",
       "      <td>3</td>\n",
       "      <td>No</td>\n",
       "      <td>3</td>\n",
       "      <td>3</td>\n",
       "      <td>Partner</td>\n",
       "      <td>4</td>\n",
       "      <td>CS111</td>\n",
       "      <td>17</td>\n",
       "      <td>3.5</td>\n",
       "      <td>2.85</td>\n",
       "      <td>3.22</td>\n",
       "      <td>Sophomore</td>\n",
       "      <td>Man</td>\n",
       "      <td>19</td>\n",
       "    </tr>\n",
       "    <tr>\n",
       "      <th>88</th>\n",
       "      <td>88</td>\n",
       "      <td>3</td>\n",
       "      <td>No</td>\n",
       "      <td>3</td>\n",
       "      <td>4</td>\n",
       "      <td>All the above</td>\n",
       "      <td>2</td>\n",
       "      <td>CS105</td>\n",
       "      <td>16</td>\n",
       "      <td>2.5</td>\n",
       "      <td>2.5</td>\n",
       "      <td>2.50</td>\n",
       "      <td>Junior</td>\n",
       "      <td>Man</td>\n",
       "      <td>21</td>\n",
       "    </tr>\n",
       "  </tbody>\n",
       "</table>\n",
       "<p>89 rows × 15 columns</p>\n",
       "</div>"
      ],
      "text/plain": [
       "    Unnamed: 0  helping_others_confidence study_group_yesno  feel_confidence  \\\n",
       "0            0                          3               Yes                1   \n",
       "1            1                          5                No                3   \n",
       "2            2                          5                No                3   \n",
       "3            3                          4               Yes                4   \n",
       "4            4                          1                No                3   \n",
       "..         ...                        ...               ...              ...   \n",
       "84          84                          4               Yes                4   \n",
       "85          85                          3               Yes                2   \n",
       "86          86                          5                No                4   \n",
       "87          87                          3                No                3   \n",
       "88          88                          3                No                3   \n",
       "\n",
       "    feel_confidence2 study_group_preference  education_fulfillment curr_class  \\\n",
       "0                  3                  Alone                      3      CS105   \n",
       "1                  4                  Alone                      4      CS111   \n",
       "2                  3          All the above                      2      CS111   \n",
       "3                  4              In groups                      4      CS105   \n",
       "4                  3                  Alone                      4      CS111   \n",
       "..               ...                    ...                    ...        ...   \n",
       "84                 4                Partner                      5      CS105   \n",
       "85                 3                Partner                      3      CS141   \n",
       "86                 3                Partner                      4      cs150   \n",
       "87                 3                Partner                      4      CS111   \n",
       "88                 4          All the above                      2      CS105   \n",
       "\n",
       "    curr_units  approx_gpa_year1 approx_gpa_win22_1  approx_gpa_win22_2  \\\n",
       "0           12               3.5                3.9                3.43   \n",
       "1           14               3.9               3.75                3.81   \n",
       "2           12               2.7                2.7                2.70   \n",
       "3           17               3.9                3.9                3.90   \n",
       "4           15               3.4                3.4                3.40   \n",
       "..         ...               ...                ...                 ...   \n",
       "84          11               4.0                  4                4.00   \n",
       "85          12               3.2                  3                3.33   \n",
       "86          12               2.9                NaN                2.50   \n",
       "87          17               3.5               2.85                3.22   \n",
       "88          16               2.5                2.5                2.50   \n",
       "\n",
       "         year gender  age  \n",
       "0      Junior  Woman   21  \n",
       "1   Sophomore    Man   20  \n",
       "2   Sophomore    Man   19  \n",
       "3      Junior    Man   20  \n",
       "4      Junior    Man   21  \n",
       "..        ...    ...  ...  \n",
       "84     Junior  Woman   21  \n",
       "85     Junior    Man   21  \n",
       "86     Senior  Woman   21  \n",
       "87  Sophomore    Man   19  \n",
       "88     Junior    Man   21  \n",
       "\n",
       "[89 rows x 15 columns]"
      ]
     },
     "execution_count": 2,
     "metadata": {},
     "output_type": "execute_result"
    }
   ],
   "source": [
    "data_df = pd.read_csv(\"data_cleaned.csv\")\n",
    "data_df"
   ]
  },
  {
   "cell_type": "code",
   "execution_count": 3,
   "id": "487f6f5f-cb2b-44e6-8a76-e07fcb8ea67b",
   "metadata": {},
   "outputs": [
    {
     "data": {
      "text/plain": [
       "5    34\n",
       "4    29\n",
       "3    14\n",
       "2     8\n",
       "1     4\n",
       "Name: helping_others_confidence, dtype: int64"
      ]
     },
     "metadata": {},
     "output_type": "display_data"
    },
    {
     "data": {
      "image/png": "[encoded data removed]",
      "text/plain": [
       "<Figure size 432x288 with 1 Axes>"
      ]
     },
     "metadata": {
      "needs_background": "light"
     },
     "output_type": "display_data"
    }
   ],
   "source": [
    "d1 = data_df[\"helping_others_confidence\"]\n",
    "d2 = d1.value_counts()\n",
    "display(d2)\n",
    "plt.bar(d2.index,d2)\n",
    "plt.show()"
   ]
  },
  {
   "cell_type": "code",
   "execution_count": 4,
   "id": "8330dd0d-7ac5-45a7-985c-148e6c703f39",
   "metadata": {},
   "outputs": [
    {
     "data": {
      "text/plain": [
       "3    38\n",
       "4    29\n",
       "2    10\n",
       "1     6\n",
       "5     6\n",
       "Name: feel_confidence2, dtype: int64"
      ]
     },
     "metadata": {},
     "output_type": "display_data"
    },
    {
     "data": {
      "image/png": "[encoded data removed]",
      "text/plain": [
       "<Figure size 432x288 with 1 Axes>"
      ]
     },
     "metadata": {
      "needs_background": "light"
     },
     "output_type": "display_data"
    }
   ],
   "source": [
    "d1 = data_df[\"feel_confidence2\"]\n",
    "d3 = d1.value_counts()\n",
    "display(d3)\n",
    "plt.bar(d3.index,d3)\n",
    "plt.show()"
   ]
  },
  {
   "cell_type": "code",
   "execution_count": 5,
   "id": "82668bd8-e630-45a3-bd9d-ce9f9e891ae1",
   "metadata": {},
   "outputs": [
    {
     "data": {
      "text/plain": [
       "Alone            27\n",
       "Partner          24\n",
       "All the above    23\n",
       "In groups        15\n",
       "Name: study_group_preference, dtype: int64"
      ]
     },
     "metadata": {},
     "output_type": "display_data"
    },
    {
     "data": {
      "image/png": "[encoded data removed]",
      "text/plain": [
       "<Figure size 432x288 with 1 Axes>"
      ]
     },
     "metadata": {
      "needs_background": "light"
     },
     "output_type": "display_data"
    }
   ],
   "source": [
    "d1 = data_df[\"study_group_preference\"]\n",
    "d4 = d1.value_counts()\n",
    "display(d4)\n",
    "plt.bar(d4.index,d4)\n",
    "plt.show()"
   ]
  },
  {
   "cell_type": "code",
   "execution_count": 6,
   "id": "908bebc9-7e06-4503-8d14-8ddd545ecb26",
   "metadata": {},
   "outputs": [
    {
     "data": {
      "text/html": [
       "<div>\n",
       "<style scoped>\n",
       "    .dataframe tbody tr th:only-of-type {\n",
       "        vertical-align: middle;\n",
       "    }\n",
       "\n",
       "    .dataframe tbody tr th {\n",
       "        vertical-align: top;\n",
       "    }\n",
       "\n",
       "    .dataframe thead th {\n",
       "        text-align: right;\n",
       "    }\n",
       "</style>\n",
       "<table border=\"1\" class=\"dataframe\">\n",
       "  <thead>\n",
       "    <tr style=\"text-align: right;\">\n",
       "      <th>study_group_preference</th>\n",
       "      <th>All the above</th>\n",
       "      <th>Alone</th>\n",
       "      <th>In groups</th>\n",
       "      <th>Partner</th>\n",
       "    </tr>\n",
       "    <tr>\n",
       "      <th>feel_confidence2</th>\n",
       "      <th></th>\n",
       "      <th></th>\n",
       "      <th></th>\n",
       "      <th></th>\n",
       "    </tr>\n",
       "  </thead>\n",
       "  <tbody>\n",
       "    <tr>\n",
       "      <th>1</th>\n",
       "      <td>1</td>\n",
       "      <td>2</td>\n",
       "      <td>2</td>\n",
       "      <td>1</td>\n",
       "    </tr>\n",
       "    <tr>\n",
       "      <th>2</th>\n",
       "      <td>1</td>\n",
       "      <td>5</td>\n",
       "      <td>3</td>\n",
       "      <td>1</td>\n",
       "    </tr>\n",
       "    <tr>\n",
       "      <th>3</th>\n",
       "      <td>11</td>\n",
       "      <td>10</td>\n",
       "      <td>3</td>\n",
       "      <td>14</td>\n",
       "    </tr>\n",
       "    <tr>\n",
       "      <th>4</th>\n",
       "      <td>8</td>\n",
       "      <td>6</td>\n",
       "      <td>7</td>\n",
       "      <td>8</td>\n",
       "    </tr>\n",
       "    <tr>\n",
       "      <th>5</th>\n",
       "      <td>2</td>\n",
       "      <td>4</td>\n",
       "      <td>0</td>\n",
       "      <td>0</td>\n",
       "    </tr>\n",
       "  </tbody>\n",
       "</table>\n",
       "</div>"
      ],
      "text/plain": [
       "study_group_preference  All the above  Alone  In groups  Partner\n",
       "feel_confidence2                                                \n",
       "1                                   1      2          2        1\n",
       "2                                   1      5          3        1\n",
       "3                                  11     10          3       14\n",
       "4                                   8      6          7        8\n",
       "5                                   2      4          0        0"
      ]
     },
     "metadata": {},
     "output_type": "display_data"
    },
    {
     "data": {
      "text/plain": [
       "<AxesSubplot:xlabel='study_group_preference', ylabel='feel_confidence2'>"
      ]
     },
     "execution_count": 6,
     "metadata": {},
     "output_type": "execute_result"
    },
    {
     "data": {
      "image/png": "[encoded data removed]",
      "text/plain": [
       "<Figure size 432x288 with 2 Axes>"
      ]
     },
     "metadata": {
      "needs_background": "light"
     },
     "output_type": "display_data"
    }
   ],
   "source": [
    "counts = pd.crosstab(data_df.feel_confidence2, data_df.study_group_preference)\n",
    "display(counts)\n",
    "joint = counts / counts.sum().sum()\n",
    "sns.heatmap(joint,annot = True)"
   ]
  },
  {
   "cell_type": "code",
   "execution_count": 7,
   "id": "737738e5-82db-46f2-92f0-cf12745109a2",
   "metadata": {},
   "outputs": [
    {
     "data": {
      "text/html": [
       "<div>\n",
       "<style scoped>\n",
       "    .dataframe tbody tr th:only-of-type {\n",
       "        vertical-align: middle;\n",
       "    }\n",
       "\n",
       "    .dataframe tbody tr th {\n",
       "        vertical-align: top;\n",
       "    }\n",
       "\n",
       "    .dataframe thead th {\n",
       "        text-align: right;\n",
       "    }\n",
       "</style>\n",
       "<table border=\"1\" class=\"dataframe\">\n",
       "  <thead>\n",
       "    <tr style=\"text-align: right;\">\n",
       "      <th>study_group_preference</th>\n",
       "      <th>All the above</th>\n",
       "      <th>Alone</th>\n",
       "      <th>In groups</th>\n",
       "      <th>Partner</th>\n",
       "    </tr>\n",
       "    <tr>\n",
       "      <th>feel_confidence2</th>\n",
       "      <th></th>\n",
       "      <th></th>\n",
       "      <th></th>\n",
       "      <th></th>\n",
       "    </tr>\n",
       "  </thead>\n",
       "  <tbody>\n",
       "    <tr>\n",
       "      <th>1</th>\n",
       "      <td>0.043478</td>\n",
       "      <td>0.074074</td>\n",
       "      <td>0.133333</td>\n",
       "      <td>0.041667</td>\n",
       "    </tr>\n",
       "    <tr>\n",
       "      <th>2</th>\n",
       "      <td>0.043478</td>\n",
       "      <td>0.185185</td>\n",
       "      <td>0.200000</td>\n",
       "      <td>0.041667</td>\n",
       "    </tr>\n",
       "    <tr>\n",
       "      <th>3</th>\n",
       "      <td>0.478261</td>\n",
       "      <td>0.370370</td>\n",
       "      <td>0.200000</td>\n",
       "      <td>0.583333</td>\n",
       "    </tr>\n",
       "    <tr>\n",
       "      <th>4</th>\n",
       "      <td>0.347826</td>\n",
       "      <td>0.222222</td>\n",
       "      <td>0.466667</td>\n",
       "      <td>0.333333</td>\n",
       "    </tr>\n",
       "    <tr>\n",
       "      <th>5</th>\n",
       "      <td>0.086957</td>\n",
       "      <td>0.148148</td>\n",
       "      <td>0.000000</td>\n",
       "      <td>0.000000</td>\n",
       "    </tr>\n",
       "  </tbody>\n",
       "</table>\n",
       "</div>"
      ],
      "text/plain": [
       "study_group_preference  All the above     Alone  In groups   Partner\n",
       "feel_confidence2                                                    \n",
       "1                            0.043478  0.074074   0.133333  0.041667\n",
       "2                            0.043478  0.185185   0.200000  0.041667\n",
       "3                            0.478261  0.370370   0.200000  0.583333\n",
       "4                            0.347826  0.222222   0.466667  0.333333\n",
       "5                            0.086957  0.148148   0.000000  0.000000"
      ]
     },
     "metadata": {},
     "output_type": "display_data"
    },
    {
     "data": {
      "text/plain": [
       "<AxesSubplot:xlabel='feel_confidence2'>"
      ]
     },
     "execution_count": 7,
     "metadata": {},
     "output_type": "execute_result"
    },
    {
     "data": {
      "image/png": "[encoded data removed]",
      "text/plain": [
       "<Figure size 432x288 with 1 Axes>"
      ]
     },
     "metadata": {
      "needs_background": "light"
     },
     "output_type": "display_data"
    }
   ],
   "source": [
    "groupPreference_counts = counts.sum(axis=0)\n",
    "confidence_given_groupPreference = counts.divide(groupPreference_counts, axis=1)\n",
    "display(confidence_given_groupPreference)\n",
    "confidence_given_groupPreference.plot.bar(stacked=True)"
   ]
  },
  {
   "cell_type": "code",
   "execution_count": 8,
   "id": "4e13ad10-b745-4553-8652-519c937bdb46",
   "metadata": {},
   "outputs": [
    {
     "name": "stdout",
     "output_type": "stream",
     "text": [
      "calculated chi square value:  16.493743644746825\n",
      "degree of freedom:  12\n"
     ]
    }
   ],
   "source": [
    "\n",
    "chi, p, dfree, expected = chi2_contingency(counts)\n",
    "print(\"calculated chi square value: \" ,chi)\n",
    "print(\"degree of freedom: \", dfree)"
   ]
  },
  {
   "cell_type": "code",
   "execution_count": 9,
   "id": "fbf96012-c143-4496-afb5-c71123246d93",
   "metadata": {},
   "outputs": [
    {
     "name": "stdout",
     "output_type": "stream",
     "text": [
      "for 12 degree of freedom, the chi-square value needed to reject the hypothesis at the 0.001 significance level:\n"
     ]
    },
    {
     "data": {
      "text/plain": [
       "32.90949040736021"
      ]
     },
     "execution_count": 9,
     "metadata": {},
     "output_type": "execute_result"
    }
   ],
   "source": [
    "chi2.ppf(1-0.001, 12)"
   ]
  }
 ],
 "metadata": {
  "kernelspec": {
   "display_name": "Python 3",
   "language": "python",
   "name": "python3"
  },
  "language_info": {
   "codemirror_mode": {
    "name": "ipython",
    "version": 3
   },
   "file_extension": ".py",
   "mimetype": "text/x-python",
   "name": "python",
   "nbconvert_exporter": "python",
   "pygments_lexer": "ipython3",
   "version": "3.8.8"
  }
 },
 "nbformat": 4,
 "nbformat_minor": 5
}
